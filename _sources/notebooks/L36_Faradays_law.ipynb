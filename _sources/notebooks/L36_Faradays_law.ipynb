{
 "cells": [
  {
   "cell_type": "markdown",
   "id": "induced-scholar",
   "metadata": {},
   "source": [
    "# Faraday's law\n",
    "\n",
    "## Overview\n",
    "\n",
    "Here are the objectives for this lesson:"
   ]
  },
  {
   "cell_type": "markdown",
   "id": "appreciated-burke",
   "metadata": {},
   "source": [
    "## Magnetic flux\n",
    "\n",
    "### Definition of magnetic flux\n",
    "\n",
    "The intuitive idea behind magnetic flux is essentially the same as that for electric flux: we are now counting the number of *magnetic* field lines that pass through a surface. Thus, again, we want to know how much of the field is perpendicular to the surface, and therefore the field that is *parallel* to the surface's normal vector ${\\hat n}$. This gives a definition of **magnetic flux** ${\\Phi_B}$ that looks a lot like that for electric flux.\n",
    "\n",
    "* **Quantity:** magnetic flux\n",
    "* **Definition:** For a magnetic field ${\\vec B}$ passing through a surface with an area vector ${\\vec A}$, the magnetic flux is given by\n",
    "\n",
    "$$\n",
    "    \\Phi_B = {\\vec B} \\cdot {\\vec A}\n",
    "$$\n",
    "\n",
    "* **Units:** webers (Wb) = T $\\cdot $m$^2$\n",
    "\n",
    "```{admonition} Problem\n",
    ":class: hint\n",
    "The magnetic field through the circular area ($r = 13.0$ cm) shown below points into the page and has an initial value of 150 mT. This field decreases in magnitude at a rate of 17.0 mT/s. The normal vector is chosen to point out of the page. Based on the information given, what is the magnetic flux (in mWb) *through* the circle? Be sure to include the appropriate sign.\n",
    "```\n",
    "\n",
    "![Magnetic field passing through a circular area](../img/INT_AY20_MP3_L27_Fig01_Mag_flux_through_circle.png)\n",
    "\n",
    "```{toggle}\n",
    "*Answer:* $-7.96$ mWb\n",
    "```\n",
    "\n",
    "```{margin} Gauss' law for magnetism\n",
    "Remember that when we first saw magnetic field lines, we saw that they never begin or end, but instead form closed loops. This is different than electric field lines, which start and stop on charged objects. Because magnetic field lines never begin or end, then for a *closed* surface (i.e. a gaussian surface), there are always the same number of magnetic field lines going into the closed surface as there are coming out. This means that Gauss' law for *magnetism* says that the magnetic flux through a gaussian surface is zero!\n",
    "```"
   ]
  },
  {
   "cell_type": "markdown",
   "id": "atlantic-cleaning",
   "metadata": {},
   "source": [
    "### Change in magnetic flux\n",
    "\n",
    "What will be important for Faraday's law is not so much the magnetic flux, but instead the *change* in magnetic flux with time. Thinking in terms of the vectors associated with $\\Phi_B$, this can happen for two basic reasons. If the magnetic field vector is changing, then the change in magnetic flux with time is given by\n",
    "\n",
    "$$\n",
    "    \\frac{\\Delta \\Phi_B}{\\Delta t} = \\frac{\\Delta {\\vec B}}{\\Delta t} \\cdot {\\vec A}\n",
    "$$\n",
    "\n",
    "On the other hand, the magnetic flux can vary if the area vector is changing as well; in this case, \n",
    "\n",
    "$$\n",
    "    \\frac{\\Delta \\Phi_B}{\\Delta t} = {\\vec B} \\cdot \\frac{\\Delta {\\vec A}}{\\Delta t}\n",
    "$$\n",
    "\n",
    "Of course, there is also the possibility that *both* vectors are changing with time! In addition, the angle between the vectors is changing, but this can only happen if one or both vectors vary with time.\n",
    "\n",
    "```{admonition} Problem\n",
    ":class: hint\n",
    "The magnetic field through the circular area ($r = 13.0$ cm) shown below points into the page and has an initial value of 150 mT. This field decreases in magnitude at a rate of 17.0 mT/s. The normal vector is chosen to point out of the page. Based on the information given, what is the rate of change in the magnetic flux (in $\\mu$Wb/s) through the circle? Be sure to include the appropriate sign.\n",
    "```\n",
    "\n",
    "![Magnetic field passing through a circular area](../img/INT_AY20_MP3_L27_Fig01_Mag_flux_through_circle.png)\n",
    "\n",
    "```{toggle}\n",
    "*Answer:* $+902 \\ \\mu$Wb/s\n",
    "```"
   ]
  },
  {
   "cell_type": "markdown",
   "id": "color-gentleman",
   "metadata": {},
   "source": [
    "### Direction along area boundaries\n",
    "\n",
    "The last mathematical step we need to complete is to set a direction along the *boundary* of a surface. This will be done in relation to the direction of the area vector. Thus, if you know one, you will be able to find the other. Let's see how this works.\n",
    "\n",
    "1. Choose a direction for the normal vector ${\\hat n}$ perpendicular to the surface.\n",
    "1. Pointing your right thumb in the direction of ${\\hat n}$, your right-hand fingers will curl around the boundary loop. This gives the *positive* direction along the boundary.\n",
    "1. This is the \"right-hand rule\" for relating the direction of the area vector and the direction around the boundary loop.\n",
    "\n",
    "The resulting relationship between the area vector ${\\vec A}$ and the positive direction along the boundary is shown in the picture below.\n",
    "\n",
    "![Relationship between the area vector and the positive direction along the surface boundary](../img/INT_AY20_MP3_L27_Fig02_Area_boundary_direction.png)\n",
    "\n",
    "```{admonition} Problem\n",
    ":class: hint\n",
    "The magnetic field through the circular area ($r = 13.0$ cm) shown below points into the page and has an initial value of 150 mT. This field decreases in magnitude at a rate of 17.0 mT/s. The normal vector is chosen to point out of the page. Based on the information given, which way is the positive direction around the boundary of the circle?\n",
    "\n",
    "![Magnetic field passing through a circular area](../img/INT_AY20_MP3_L27_Fig01_Mag_flux_through_circle.png)\n",
    "\n",
    "1. clockwise\n",
    "1. counterclockwise\n",
    "1. into the page\n",
    "1. left\n",
    "1. out of the page\n",
    "1. right\n",
    "```\n",
    "\n",
    "```{toggle}\n",
    "*Answer:* The direction around the circle boundary is counterclockwise.\n",
    "```\n",
    "\n",
    "Let's work through an example problem, and see how to find the magnetic flux, and its change, in a physical situation. In the picture below, a rectangular loop of wire is traveling at a constant speed of 4.00 m/s to the right, as shown in the figure below. As it moves, it passes from a region with no magnetic field into a region with a constant magnetic field ${\\vec B}$ of 7.05 mT pointing into the page. The loop is halfway inside the field at points 2 and 4. We will take the normal vector to point *out* of the screen, and find both the magnetic flux, and the rate of change of the magnetic flux, at each point.\n",
    "\n",
    "![Rectangular loop passing into and out of a constant magnetic field](../img/INT_AY20_MP3_L27_Fig03_Rect_loop_through_field.png)"
   ]
  },
  {
   "cell_type": "markdown",
   "id": "alike-calculator",
   "metadata": {},
   "source": [
    "## Faraday's law"
   ]
  },
  {
   "cell_type": "markdown",
   "id": "exposed-benefit",
   "metadata": {},
   "source": [
    "## Summary\n",
    "\n",
    "After this lesson, you should be able to:\n",
    "\n",
    "* Do something."
   ]
  }
 ],
 "metadata": {
  "kernelspec": {
   "display_name": "Python 3",
   "language": "python",
   "name": "python3"
  },
  "language_info": {
   "codemirror_mode": {
    "name": "ipython",
    "version": 3
   },
   "file_extension": ".py",
   "mimetype": "text/x-python",
   "name": "python",
   "nbconvert_exporter": "python",
   "pygments_lexer": "ipython3",
   "version": "3.7.1"
  },
  "toc": {
   "base_numbering": 1,
   "nav_menu": {},
   "number_sections": true,
   "sideBar": true,
   "skip_h1_title": false,
   "title_cell": "Table of Contents",
   "title_sidebar": "Contents",
   "toc_cell": false,
   "toc_position": {},
   "toc_section_display": true,
   "toc_window_display": false
  }
 },
 "nbformat": 4,
 "nbformat_minor": 5
}
