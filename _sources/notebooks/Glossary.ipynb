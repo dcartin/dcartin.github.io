{
 "cells": [
  {
   "cell_type": "markdown",
   "id": "occasional-vintage",
   "metadata": {},
   "source": [
    "# Glossary\n",
    "\n",
    "```{glossary}\n",
    "Kinetic energy\n",
    "    The energy of motion; for an object with mass $m$ and speed $v$, the kinetic energy $K$ is given by\n",
    "    \n",
    "    $$K = \\frac{1}{2} mv^2$$\n",
    "    \n",
    "    Note that kinetic energy is a scalar, and always positive. It has units of joules.\n",
    "Work\n",
    "    Work $W_F$ done by a force ${\\vec F}$ transfers energy either into ($W_F > 0$) or out of ($W_F < 0$) a system. The work $W_F$ done by a force ${\\vec F}$ on an object moving over a displacement $\\Delta {\\vec r}$ is given by\n",
    "    \n",
    "    $$W_F = {\\vec F} \\cdot \\Delta {\\vec r} $$\n",
    "    \n",
    "Work-energy theorem\n",
    "    The total work $W_{tot}$ on a system is related to the {term}`kinetic energy` $K$ of the system by\n",
    "    \n",
    "    $$W_{tot} = \\frac{1}{2} m v^2 _f - \\frac{1}{2} m v^2 _i$$\n",
    "```"
   ]
  }
 ],
 "metadata": {
  "kernelspec": {
   "display_name": "Python 3",
   "language": "python",
   "name": "python3"
  },
  "language_info": {
   "codemirror_mode": {
    "name": "ipython",
    "version": 3
   },
   "file_extension": ".py",
   "mimetype": "text/x-python",
   "name": "python",
   "nbconvert_exporter": "python",
   "pygments_lexer": "ipython3",
   "version": "3.7.1"
  },
  "toc": {
   "base_numbering": 1,
   "nav_menu": {},
   "number_sections": true,
   "sideBar": true,
   "skip_h1_title": false,
   "title_cell": "Table of Contents",
   "title_sidebar": "Contents",
   "toc_cell": false,
   "toc_position": {},
   "toc_section_display": true,
   "toc_window_display": false
  }
 },
 "nbformat": 4,
 "nbformat_minor": 5
}
