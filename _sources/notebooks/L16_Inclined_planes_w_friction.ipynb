{
 "cells": [
  {
   "cell_type": "markdown",
   "metadata": {},
   "source": [
    "# Inclined planes with friction\n",
    "\n",
    "## Overview\n",
    "\n",
    "In this lesson, we are going to combine what we have done over the previous two lessons, i.e. add friction to an object on an inclined plane or ramp. Because friction is involved, this means our first step is usually going to be solving for the normal force acting on the object. Then we use this to find the force of friction. Thus, it will be important to completely solve the Newton's second law equations for the object on the ramp -- meaning in both the parallel and perpendicular directions.\n",
    "\n",
    "Here is the objective for this lesson:\n",
    "\n",
    "* Solve force problems on an inclined plane with friction using a rotated coordinate system."
   ]
  },
  {
   "cell_type": "markdown",
   "metadata": {},
   "source": [
    "## Inclined planes with friction: an example\n",
    "\n",
    "As stated above, both the parallel and perpendicular compnents of Newton's second law must be solved to understand the motion of an object on a ramp with friction. We have already seen all the physics concepts we will use, so let's go through an example, and see how all of the pieces fit together.\n",
    "\n",
    "Suppose that a child slides down a playground slide with an acceleration magnitude of 1.26 m/s$^2$. Assuming the slide is at a constant 33.0$^\\circ$ angle to the horizontal, what is the coefficient of kinetic friction between the slide and the child? As always, we first set up the FBD for the situation. The relevant forces here are the gravitational, friction, and normal forces. Since the acceleration is along the ramp, it makes sense to use unit vectors parallel and perpendicular to the ramp. The frictional force opposes the motion down the slide, so it points up the slide. Thus, the FBD looks like the diagram shown below.\n",
    "\n",
    "![FBD for child on slide](../img/INT_AY21_L16_Fig01_FBD_small.png)\n",
    "\n",
    "We start from the vector sum of the forces,\n",
    "\n",
    "$$\n",
    "    \\sum {\\vec F} = {\\vec F}_g + {\\vec F}_N + {\\vec F}_{fr} = m {\\vec a}\n",
    "$$\n",
    "\n",
    "where\n",
    "\n",
    "$$\n",
    "    {\\vec F}_g = (-mg \\sin \\theta) {\\hat e}_{||} + (-mg \\cos\\theta) {\\hat e}_\\perp \\qquad\n",
    "    {\\vec F}_N = F_N {\\hat e}_\\perp \\qquad\n",
    "    {\\vec F}_{fr} = F_{fr} {\\hat e}_{||} = \\mu_k F_N {\\hat e}_{||}\n",
    "$$\n",
    "\n",
    "Note that *up* the ramp is taken as positive here. This means that tha acceleration in this case is\n",
    "\n",
    "$$\n",
    "    {\\vec a} = (-a) {\\hat e}_{||}\n",
    "$$\n",
    "\n",
    "where $a = 1.26$ m/s$^2$ is the magnitude of the acceleration. As always, watching your signs means thinking about the directions for each of the vectors involved in the problem! You will see below that if you had not included this sign for the acceleration, you would have gotten the wrong answer for $\\mu_k$. Taking the scalar product with the two unit vectors ${\\hat e}_{||}$ and ${\\hat e}_\\perp$, we get\n",
    "\n",
    "$$\n",
    "    \\sum F_{||} = \\biggl( \\sum {\\vec F} \\biggr) \\cdot {\\hat e}_{||} = -mg \\sin \\theta + \\mu_k F_N = -ma \\qquad\n",
    "    \\sum F_\\perp = \\biggl( \\sum {\\vec F} \\biggr) \\cdot {\\hat e}_\\perp = -mg \\cos \\theta + F_N = 0\n",
    "$$\n",
    "\n",
    "Before friction was involved, we could solve the ${\\hat e}_{||}$ equation without really worrying about the ${\\hat e}_\\perp$ equation at all. Now that we have friction, we need to solve the ${\\hat e}_\\perp$ equation first for the magnitude $F_N$ of the normal force, then substitute that into the ${\\hat e}_{||}$ equation. So, going through this plan, we get\n",
    "\n",
    "$$\n",
    "    F_N = mg \\cos \\theta\n",
    "$$\n",
    "\n",
    "and so\n",
    "\n",
    "$$\n",
    "    -mg \\sin \\theta + \\mu_k (mg \\cos \\theta) = -ma\n",
    "$$\n",
    "\n",
    "Notice why we weren't told the mass of the child -- it cancels out of the equation! Here's another way to say it. If we double the mass of the child, for example, then the normal force and the child's weight both double as well. These doublings cancel out in the Newton's 2nd law equation, giving the same acceleration magnitude. Taking the ${\\hat e}_{||}$ equation, and solving for the coefficient of kinetic friction $\\mu_k$ gives\n",
    "\n",
    "$$\n",
    "    \\mu_k = \\frac{g \\sin \\theta - a}{g \\cos \\theta}\n",
    "$$\n",
    "\n",
    "With the numbers given above, this results in $\\mu_k = 0.496$.\n",
    "\n",
    "> **Problem:** A box sits on a flat board. You lift one end of the board, making an angle with the floor. As you increase the angle, the box will eventually begin to slide down. Why?\n",
    ">\n",
    "> 1. The coefficient of static friction decreased\n",
    "> 1. The component of gravity force parallel to board increased\n",
    "> 1. The normal force exerted by board decreased\n",
    "> 1. Both 1 and 2\n",
    "> 1. 1, 2, and 3 are all true.\n",
    "\n",
    "> **Problem:** A mass $m$ is placed on a rough inclined plane and slides down the plane with constant speed $v$. If a block of mass $2m$ were placed on the same incline, it would...\n",
    ">\n",
    "> 1. not move at all.\n",
    "> 1. slide a bit, slow down, then stop.\n",
    "> 1. accelerate down the incline.\n",
    "> 1. slide down at constant speed.\n",
    "> 1. slide up at constant speed.\n",
    "\n",
    "> **Problem:** A horizontal force of 60.0 N is applied to a box of mass 6.40 kg which slides down an incline ($\\theta =20.0^\\circ$), as shown. The coefficient of kinetic friction between the box and incline is 0.240.\n",
    ">\n",
    "> ![A box on a ramp, with an applied force](../img/INT_AY20_MP2_L05_Fig03_small.png)\n",
    ">\n",
    "> 1. What is the magnitude of the normal force (in N) on the box? *Answer:* 38.5 N\n",
    "> 1. What is the magnitude of the acceleration (n m/s$^2$) of the box? *Answer:* 10.7 m/s$^2$"
   ]
  },
  {
   "cell_type": "markdown",
   "metadata": {},
   "source": [
    "## The angle of repose\n",
    "\n",
    "As another example, let's see how we can experimentally determine the coefficient of static friction $\\mu_s$ for a substance with a simple measurement. Suppose we have a block sitting at rest on a ramp, and it stays at rest, because the force of static friction is enough to keep it in place. This means that static friction has a magnitude less than or equal to its maximum value:\n",
    "\n",
    "$$\n",
    "    F_{fr, s} \\le \\mu_s F_N\n",
    "$$\n",
    "\n",
    "The force equations for this block will be almost the same as in the last section. We don't set $F_{fr}$ equal to $\\mu_s F_N$ just yet, however. Thus, we have the force equation in the parallel direction is\n",
    "\n",
    "$$\n",
    "    -mg \\sin \\theta + F_{fr, s} = ma_{||} = 0\n",
    "$$\n",
    "\n",
    "since the block is not moving. From the inequality above, this means\n",
    "\n",
    "$$\n",
    "    0 = -mg \\sin \\theta + F_{fr, s} \\le -mg \\sin \\theta + \\mu_s mg \\cos \\theta\n",
    "$$\n",
    "\n",
    "We now take the left and right pieces of this inequality, and solve for the coefficient $\\mu_s$, resulting in\n",
    "\n",
    "$$\n",
    "    \\mu_s \\le \\frac{\\sin \\theta}{\\cos \\theta} = \\tan \\theta\n",
    "$$\n",
    "\n",
    "Thus, the coefficient of static friction $\\mu_s$ determines a maximum angle $\\theta_s = \\tan^{-1} \\mu_s$ known as the **angle of repose**. If the angle of the ramp is greater than this angle $\\theta_s$, then static friction is *not* enough to keep the block in place, and it will slide down the ramp. On the other hand, if the incline angle is less than $\\theta_s$, then a block started at rest will remain at rest on the ramp.\n",
    "\n",
    "A consequence of this is that piles of a given material will always have a slope less than a particular value. If you watch the video linked below, you will see sand poured onto an existing sand pile. The angle of the pile with respect to the horizontal will never get to be more than about 35 degrees or so. If this does happen, the sand at the top will slide down, until the angle is again below the angle of repose. So, you can see that the coefficient of static friction for sand on sand is about $\\tan 35^\\circ$, or around 0.700."
   ]
  },
  {
   "cell_type": "code",
   "execution_count": null,
   "metadata": {},
   "outputs": [],
   "source": [
    "from IPython.display import YouTubeVideo\n",
    "\n",
    "YouTubeVideo('SIkRUv39SoI', mute = 1)"
   ]
  },
  {
   "cell_type": "markdown",
   "metadata": {},
   "source": [
    "## Simulating the motion\n",
    "\n",
    "Let's now use some of our work from Lesson 14, and simulate the motion of a block on a ramp, now with friction. We will use the concept of the angle of repose from the last section to define the frictional force for all possible situations. First, we need to import the same modules as before."
   ]
  },
  {
   "cell_type": "code",
   "execution_count": 1,
   "metadata": {},
   "outputs": [
    {
     "data": {
      "text/html": [
       "<div id=\"glowscript\" class=\"glowscript\"></div>"
      ],
      "text/plain": [
       "<IPython.core.display.HTML object>"
      ]
     },
     "metadata": {},
     "output_type": "display_data"
    },
    {
     "data": {
      "application/javascript": [
       "if (typeof Jupyter !== \"undefined\") { window.__context = { glowscript_container: $(\"#glowscript\").removeAttr(\"id\")};}else{ element.textContent = ' ';}"
      ],
      "text/plain": [
       "<IPython.core.display.Javascript object>"
      ]
     },
     "metadata": {},
     "output_type": "display_data"
    }
   ],
   "source": [
    "from vpython import box, canvas, color, cos, gcurve, graph, mag, radians, rate, sin, tan, vector"
   ]
  },
  {
   "cell_type": "markdown",
   "metadata": {},
   "source": [
    "We can also use the same function `init()` to create the block and ramp. However, we have changed the function slightly, so that the vector `block.force` is not defined here. This has to do with the fact that the force can change, as discussed further below. Run the cell below to use the function."
   ]
  },
  {
   "cell_type": "code",
   "execution_count": 32,
   "metadata": {},
   "outputs": [],
   "source": [
    "def init():\n",
    "    \"\"\"\n",
    "    Creates a ramp with a block on it, and returns the\n",
    "    block object. This function only works if the vector\n",
    "    unitPar is already defined in the main code.\n",
    "    \"\"\"\n",
    "\n",
    "    # Physical size of ramp\n",
    "\n",
    "    rampLength = 24\n",
    "    rampWidth = 12\n",
    "    rampThick = 0.2\n",
    "\n",
    "    # Objects\n",
    "\n",
    "    ramp = box(pos = vector(0, 0, 0), color = color.green, \\\n",
    "               size = vector(rampLength, rampThick, rampWidth), \\\n",
    "               axis = unitPar)\n",
    "    block = box(pos = vector(0, 0.6, 0), size = vector(3, 1, 3), \\\n",
    "                mass = 2, velocity = vector(0, 0, 0), \\\n",
    "                axis = unitPar)\n",
    "    \n",
    "    # Return the block object, so it can move\n",
    "    # due to updating in other parts of code\n",
    "    \n",
    "    return block"
   ]
  },
  {
   "cell_type": "markdown",
   "metadata": {},
   "source": [
    "As mentioned above, the definition of `block.force` was taken out of this function. This is because we have to worry about what kind of frictional force there is! In particular, if the block is not moving, then the friction is static friction, while if it *is* moving, then it is kinetic friction. This can change throughout the motion, since the block can either start at rest, or stop momentarily during its motion. So, we create a function `force()` to return the force vector, depending on the value of the block's speed. Then, in the main code below, this check will be used to give `block.force` at every time step.\n",
    "\n",
    "Notice that we don't check whether the block's speed is exactly zero! Instead, we check whether it is smaller than a tolerance value `TOL`. The reason for this is that the speed of the block may never exactly reach zero, because of the numerical error that can built up when using a computer simulation. So we set the variable `TOL` to a small number, and if the speed is smaller than this, we consider the block to be at rest (at least momentarily)."
   ]
  },
  {
   "cell_type": "code",
   "execution_count": 33,
   "metadata": {},
   "outputs": [],
   "source": [
    "def force():\n",
    "    \"\"\"\n",
    "    Returns the net force vector acting on the block,\n",
    "    depending on the angle, block velocity, and the\n",
    "    coefficients of static and kinetic friction.\n",
    "    \"\"\"\n",
    "\n",
    "    # Define partial force on block; this is F_g and F_N,\n",
    "    # and F_fr will be added later\n",
    "\n",
    "    partial_force = block.mass * GRAV_FIELD + block.mass * mag(GRAV_FIELD) * cos(radians(Q)) * unitPerp\n",
    "    \n",
    "    # Find force, based on current speed\n",
    "    \n",
    "    if mag(block.velocity) <= TOL:\n",
    "        if MU_S < tan(radians(Q)):             # Is static friction enough to stop block?\n",
    "            block.force = partial_force + block.mass * MU_S * mag(GRAV_FIELD) * cos(radians(Q)) * unitPar\n",
    "        else:\n",
    "            block.force = vector(0, 0, 0)      # Static friction prevents motion\n",
    "    else:\n",
    "        block.force = partial_force + block.mass * MU_K * mag(GRAV_FIELD) * cos(radians(Q)) * unitPar\n",
    "        \n",
    "    # Output resulting force\n",
    "    \n",
    "    return block.force"
   ]
  },
  {
   "cell_type": "markdown",
   "metadata": {},
   "source": [
    "Now that we have these two functions, we can turn to the main code, given in the cell below. Much of this is the same as what was used for the frictionless ramp of Lesson 14. However, the coefficients `MU_S` and `MU_K` of static and kinetic friction, respectively, are also defined, along with the tolerance limit `TOL` for finding the net force."
   ]
  },
  {
   "cell_type": "code",
   "execution_count": 39,
   "metadata": {},
   "outputs": [
    {
     "data": {
      "text/html": [
       "<div id=\"glowscript\" class=\"glowscript\"></div>"
      ],
      "text/plain": [
       "<IPython.core.display.HTML object>"
      ]
     },
     "metadata": {},
     "output_type": "display_data"
    },
    {
     "data": {
      "application/javascript": [
       "if (typeof Jupyter !== \"undefined\") { window.__context = { glowscript_container: $(\"#glowscript\").removeAttr(\"id\")};}else{ element.textContent = ' ';}"
      ],
      "text/plain": [
       "<IPython.core.display.Javascript object>"
      ]
     },
     "metadata": {},
     "output_type": "display_data"
    }
   ],
   "source": [
    "canvas()\n",
    "\n",
    "# Constants and definitions\n",
    "    \n",
    "Q = 30                     # Ramp angle, in degrees\n",
    "    \n",
    "GRAV_FIELD = vector(0, -9.81, 0)     # in m/s^2\n",
    "\n",
    "VEL_INIT_PAR = 5           # Initial parallel velocity component (m/s)\n",
    "\n",
    "unitPar = vector(cos(radians(Q)), sin(radians(Q)), 0)\n",
    "unitPerp = vector(-sin(radians(Q)), cos(radians(Q)), 0)\n",
    "\n",
    "MU_S = 0.3                 # Coefficient of static friction\n",
    "MU_K = 0.1                 # Coefficient of kinetic friction\n",
    "\n",
    "MAX_TIME = 2\n",
    "t = 0\n",
    "DT = 0.01\n",
    "\n",
    "TOL = 0.01                 # Tolerance for speed when checking static friction\n",
    "\n",
    "# Define block with given velocity\n",
    "\n",
    "block = init()\n",
    "block.velocity = VEL_INIT_PAR * unitPar\n",
    "\n",
    "# Evolution loop\n",
    "\n",
    "while t < MAX_TIME:\n",
    "    rate(100)\n",
    "    \n",
    "    # Find force on block using force procedure\n",
    "    \n",
    "    block.force = force()\n",
    "    \n",
    "    # Update block position, velocity\n",
    "    \n",
    "    block.velocity = block.velocity + (block.force / block.mass) * DT\n",
    "    block.pos = block.pos + block.velocity * DT\n",
    "    \n",
    "    # Update time\n",
    "    \n",
    "    t = t + DT"
   ]
  },
  {
   "cell_type": "markdown",
   "metadata": {},
   "source": [
    ">**Problem:** The block starts at the center of the ramp, which has a length `rampLength` (given in `init()`) from one end to the other in the $x$ direction. Calculate how long it takes the center of the block to reach the edge of the ramp, when the block starts from rest, using the default values of the initial velocity and the friction coefficients. Run the code, and verify that your calculated answer matches what the simulation shows. It may be helpful to change the value of the total time `MAX_TIME` to reflect the time you calculated.\n",
    "\n",
    ">**Problem:** Change the initial velocity, so that it is moving at 5.00 m/s up the ramp (i.e. in the ${\\hat e}_{||}$ direction), and repeat what you did for the last problem. How much of a difference is there in the total time to reach the bottom of the ramp? What if the block is initially moving at 5.00 m/s down the ramp?\n",
    "\n",
    ">**Problem:** With the given values of the coefficients `MU_S` and `MU_K`, by trial and error, use the code above to find the angle of repose for the block on the ramp. Once you have this angle, verify it by calculating the actual angle of repose for the default value of `MU_S`.\n",
    "\n",
    "In Lesson 14, you found a third unit vector ${\\hat e}_{side}$ to help with side to side motion of the block on the ramp. Under the definitions of `unitPar` and `unitPerp`, define a third vector `unitSide`, and experiment with including sideways velocity to the initial velocity. As we saw previously, if the initial velocity is either strictly up or down the ramp (i.e. only in the ${\\hat e}_{||}$ direction, the Newton's second law equations are relatively easy to solve. The mathematics gets much more complicated when side to side motion is included. However, with the vPython simulation we have constructed, it is simple to play around with the various values, and see what happens.\n",
    "\n",
    ">**Problem:** Add a sideways component to the block's velocity (no more than 3.00 m/s or so). How does the motion of the block change? Does the block slide *down* the ramp as far as it did when there was only parallel motion?"
   ]
  },
  {
   "cell_type": "markdown",
   "metadata": {},
   "source": [
    "## Summary\n",
    "\n",
    "We have now brought together the ideas of Lessons 14 (inclined planes) and Lesson 15 (friction). This should give you some practice in applying Newton's second law to a situation with multiple forces acting on an object. In particular, with an applied force included, this force can have components both parallel and perpendicular to the ramp. If the applied force has a perpendicular part, the normal force can change, thus altering the frictional force parallel to the ramp. Therefore, this is a situation where what is happening in one direction can affect the motion in a perpendicular direction. This will be the generic situation for force problems.\n",
    "\n",
    "After this lesson, you should be able to:\n",
    "\n",
    "* Solve for the motion of an object on a ramp or incline with friction present."
   ]
  }
 ],
 "metadata": {
  "kernelspec": {
   "display_name": "Python 3",
   "language": "python",
   "name": "python3"
  },
  "language_info": {
   "codemirror_mode": {
    "name": "ipython",
    "version": 3
   },
   "file_extension": ".py",
   "mimetype": "text/x-python",
   "name": "python",
   "nbconvert_exporter": "python",
   "pygments_lexer": "ipython3",
   "version": "3.7.1"
  },
  "toc": {
   "base_numbering": 1,
   "nav_menu": {},
   "number_sections": true,
   "sideBar": true,
   "skip_h1_title": false,
   "title_cell": "Table of Contents",
   "title_sidebar": "Contents",
   "toc_cell": false,
   "toc_position": {},
   "toc_section_display": true,
   "toc_window_display": false
  }
 },
 "nbformat": 4,
 "nbformat_minor": 2
}
